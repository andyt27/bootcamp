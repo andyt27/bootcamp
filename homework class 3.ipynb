{
 "cells": [
  {
   "cell_type": "code",
   "execution_count": null,
   "id": "68458d9b",
   "metadata": {},
   "outputs": [],
   "source": [
    "#question 1\n",
    "hrs = ('Enter hours:')\n",
    "h = float(hrs)\n",
    "rate = ('Enter rates per hour:')\n",
    "r = float(rate)\n",
    "if h > 40:\n",
    "   pay = print(40*r+(h-40)*1.5*r)\n",
    "elif h <= 40:\n",
    "   pay = print(h*r)"
   ]
  },
  {
   "cell_type": "code",
   "execution_count": null,
   "id": "3f154b5d",
   "metadata": {},
   "outputs": [],
   "source": [
    "#question 2\n",
    "score = ('enter score:')\n",
    "s = float(score)\n",
    "if s >= 0.9:\n",
    "   print ('A')\n",
    "elif s >= 0.8:\n",
    "   print ('B')\n",
    "elif s >= 0.7:\n",
    "   print ('C')\n",
    "elif s >= 0.6:\n",
    "   print ('D')\n",
    "elif s < 0.6:\n",
    "   print ('F')\n",
    "else:\n",
    "   print ('ERROR')"
   ]
  },
  {
   "cell_type": "code",
   "execution_count": null,
   "id": "b872c4de",
   "metadata": {},
   "outputs": [],
   "source": [
    "#question 3\n",
    "hrs = ('Insert Hours')\n",
    "h = float(hrs)\n",
    "rate = ('Insert rate')\n",
    "r = float(rate)\n",
    "def computepay (h,r):\n",
    "   if h <= 40:\n",
    "       return (h*r)\n",
    "   if h > 40:\n",
    "       return (40*r+(h-40)*1.5*r)\n",
    "p = computepay(h,r)\n",
    "print (p)"
   ]
  }
 ],
 "metadata": {
  "kernelspec": {
   "display_name": "Python 3 (ipykernel)",
   "language": "python",
   "name": "python3"
  },
  "language_info": {
   "codemirror_mode": {
    "name": "ipython",
    "version": 3
   },
   "file_extension": ".py",
   "mimetype": "text/x-python",
   "name": "python",
   "nbconvert_exporter": "python",
   "pygments_lexer": "ipython3",
   "version": "3.9.12"
  }
 },
 "nbformat": 4,
 "nbformat_minor": 5
}
